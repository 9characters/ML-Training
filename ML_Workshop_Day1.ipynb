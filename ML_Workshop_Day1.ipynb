{
  "nbformat": 4,
  "nbformat_minor": 0,
  "metadata": {
    "colab": {
      "name": "ML Workshop - Day1.ipynb",
      "provenance": [],
      "collapsed_sections": [
        "Q863NyJcJGqM",
        "l6OanengIWZC",
        "pg2WkOK1f4PA"
      ],
      "toc_visible": true,
      "authorship_tag": "ABX9TyOHF/eC7E9vLmxXwSRJpaQO",
      "include_colab_link": true
    },
    "kernelspec": {
      "name": "python3",
      "display_name": "Python 3"
    }
  },
  "cells": [
    {
      "cell_type": "markdown",
      "metadata": {
        "id": "view-in-github",
        "colab_type": "text"
      },
      "source": [
        "<a href=\"https://colab.research.google.com/github/9characters/ML-Training/blob/main/ML_Workshop_Day1.ipynb\" target=\"_parent\"><img src=\"https://colab.research.google.com/assets/colab-badge.svg\" alt=\"Open In Colab\"/></a>"
      ]
    },
    {
      "cell_type": "code",
      "metadata": {
        "id": "nTl_i8rM80_D"
      },
      "source": [
        "!git clone https://github.com/9characters/ML-Training"
      ],
      "execution_count": null,
      "outputs": []
    },
    {
      "cell_type": "markdown",
      "metadata": {
        "id": "Q863NyJcJGqM"
      },
      "source": [
        "# PYTHON DATA STRUCTURES"
      ]
    },
    {
      "cell_type": "code",
      "metadata": {
        "id": "8RgnY-ggJXhx"
      },
      "source": [
        "# Lists\n",
        "listA = [12, 24, \"Black\", \"Box\"]"
      ],
      "execution_count": null,
      "outputs": []
    },
    {
      "cell_type": "code",
      "metadata": {
        "id": "NhBMHrAsJeZ3"
      },
      "source": [
        "print(listA[0])\n",
        "print(listA[3])"
      ],
      "execution_count": null,
      "outputs": []
    },
    {
      "cell_type": "code",
      "metadata": {
        "id": "nzD9tgVMJrK4"
      },
      "source": [
        "for item in listA:\n",
        "  print(item)"
      ],
      "execution_count": null,
      "outputs": []
    },
    {
      "cell_type": "code",
      "metadata": {
        "id": "uXYvIU1YJu6t"
      },
      "source": [
        "# Dictionaries\n",
        "dictA = {\"one\": 1, \"name\": \"Harry\", 23: \"roll\"}"
      ],
      "execution_count": null,
      "outputs": []
    },
    {
      "cell_type": "code",
      "metadata": {
        "id": "5Zvv4JDVKNAK"
      },
      "source": [
        "print(dictA[\"one\"])\n",
        "print(dictA[\"name\"])\n",
        "print(dictA[23])"
      ],
      "execution_count": null,
      "outputs": []
    },
    {
      "cell_type": "code",
      "metadata": {
        "id": "b7mzqT66KZZp"
      },
      "source": [
        "for key, value in dictA.items():\n",
        "  print(key, value)"
      ],
      "execution_count": null,
      "outputs": []
    },
    {
      "cell_type": "code",
      "metadata": {
        "id": "ew7_9VwLKeUx"
      },
      "source": [
        "# Tuples\n",
        "tupleA = (12, 24, \"one\", \"two\")"
      ],
      "execution_count": null,
      "outputs": []
    },
    {
      "cell_type": "code",
      "metadata": {
        "id": "iep_Esc8KkpI"
      },
      "source": [
        "print(tupleA[2])\n",
        "print(tupleA[3])"
      ],
      "execution_count": null,
      "outputs": []
    },
    {
      "cell_type": "code",
      "metadata": {
        "id": "4TiFdORgKpbD"
      },
      "source": [
        "for item in tupleA:\n",
        "  print(item)"
      ],
      "execution_count": null,
      "outputs": []
    },
    {
      "cell_type": "markdown",
      "metadata": {
        "id": "l6OanengIWZC"
      },
      "source": [
        "# LINEAR REGRESSION"
      ]
    },
    {
      "cell_type": "code",
      "metadata": {
        "id": "rmAAxuDc9WbE"
      },
      "source": [
        "# Load the required libraries\n",
        "import numpy as np\n",
        "import pandas as pd\n",
        "import matplotlib.pyplot as plt\n",
        "from sklearn.preprocessing import StandardScaler\n",
        "from sklearn.model_selection import train_test_split\n",
        "from sklearn.metrics import r2_score"
      ],
      "execution_count": null,
      "outputs": []
    },
    {
      "cell_type": "code",
      "metadata": {
        "id": "p90OlzSU9IvE"
      },
      "source": [
        "dataset = pd.read_csv(\"headbrain.csv\")"
      ],
      "execution_count": null,
      "outputs": []
    },
    {
      "cell_type": "code",
      "metadata": {
        "id": "D6ik3XOa9igb"
      },
      "source": [
        "dataset.head()"
      ],
      "execution_count": null,
      "outputs": []
    },
    {
      "cell_type": "code",
      "metadata": {
        "id": "iAEswTGE_cjO"
      },
      "source": [
        "#Separating the dependent and independent variables\n",
        "X = dataset.iloc[:, 0:1].dropna().values\n",
        "Y = dataset.iloc[:, 1:2].dropna().values"
      ],
      "execution_count": null,
      "outputs": []
    },
    {
      "cell_type": "code",
      "metadata": {
        "id": "mCNlxseZFqWc"
      },
      "source": [
        "print(X[:5]); print(f\"\\n {y[:5]}\")"
      ],
      "execution_count": null,
      "outputs": []
    },
    {
      "cell_type": "code",
      "metadata": {
        "id": "a4_ZT78tB3Wc"
      },
      "source": [
        "X_train, X_test, Y_train, Y_test = train_test_split(X, Y, test_size = 0.2, random_state = 5)"
      ],
      "execution_count": null,
      "outputs": []
    },
    {
      "cell_type": "code",
      "metadata": {
        "id": "bYQpq0D6DnA8"
      },
      "source": [
        "print(X_train[:5]); print(f\"\\n{Y_train[:5]}\")"
      ],
      "execution_count": null,
      "outputs": []
    },
    {
      "cell_type": "code",
      "metadata": {
        "id": "wJnsqAFFAvU_"
      },
      "source": [
        "# Importing Linear Regression module from the sklearn library\n",
        "from sklearn.linear_model import LinearRegression"
      ],
      "execution_count": null,
      "outputs": []
    },
    {
      "cell_type": "code",
      "metadata": {
        "id": "Mqow4JCcA1M-"
      },
      "source": [
        "# Defining the Linear Regression Model\n",
        "lrModel = LinearRegression()"
      ],
      "execution_count": null,
      "outputs": []
    },
    {
      "cell_type": "code",
      "metadata": {
        "id": "ICz-JfjeA12e"
      },
      "source": [
        "# Fitting training data\n",
        "lrModel = lrModel.fit(X_train, Y_train)"
      ],
      "execution_count": null,
      "outputs": []
    },
    {
      "cell_type": "code",
      "metadata": {
        "id": "MEc7Of5RA3U5"
      },
      "source": [
        "# Y Prediction\n",
        "Y_pred = lrModel.predict(X_test)"
      ],
      "execution_count": null,
      "outputs": []
    },
    {
      "cell_type": "code",
      "metadata": {
        "id": "qrVkoBLbBAeG"
      },
      "source": [
        "# Calculating the R-squared score\n",
        "resultLR = round(r2_score(Y_test, Y_pred), 3)"
      ],
      "execution_count": null,
      "outputs": []
    },
    {
      "cell_type": "code",
      "metadata": {
        "id": "Paf8hdciCbxC"
      },
      "source": [
        "print(f\"R2 Score using Linear Regression: {resultLR}\")"
      ],
      "execution_count": null,
      "outputs": []
    },
    {
      "cell_type": "code",
      "metadata": {
        "id": "1Jc5O2XBCqEd"
      },
      "source": [
        "lrModel.predict([[4512]])"
      ],
      "execution_count": null,
      "outputs": []
    },
    {
      "cell_type": "code",
      "metadata": {
        "id": "IM6D0ubmC3No"
      },
      "source": [
        "plt.scatter(X_test, Y_test, color='red')\n",
        "plt.plot(X_test, Y_pred, color = 'blue')\n",
        "plt.xlabel(\"Head Size(cm^3)\")\n",
        "plt.ylabel(\"Brain Weight(grams)\")\n",
        "plt.show()"
      ],
      "execution_count": null,
      "outputs": []
    },
    {
      "cell_type": "markdown",
      "metadata": {
        "id": "pg2WkOK1f4PA"
      },
      "source": [
        "# ARTIFICIAL NEURAL NETWORK"
      ]
    },
    {
      "cell_type": "code",
      "metadata": {
        "id": "DfvTcLx2f7_4"
      },
      "source": [
        "import numpy as np\n",
        "import pandas as pd\n",
        "from keras.models import Sequential\n",
        "from keras.layers import Dense\n",
        "from sklearn.preprocessing import LabelBinarizer\n",
        "from sklearn.model_selection import train_test_split\n",
        "import matplotlib.pyplot as plt"
      ],
      "execution_count": null,
      "outputs": []
    },
    {
      "cell_type": "code",
      "metadata": {
        "id": "IBS5h2yDpc31"
      },
      "source": [
        "irisData = pd.read_csv(\"Iris.csv\")"
      ],
      "execution_count": null,
      "outputs": []
    },
    {
      "cell_type": "code",
      "metadata": {
        "id": "gtMluluPm8u7"
      },
      "source": [
        "dataLabel = {\n",
        "    0: \"Iris-setosa\",\n",
        "    1: \"Iris-versicolor\",\n",
        "    2: \"Iris-verginica\"\n",
        "}"
      ],
      "execution_count": null,
      "outputs": []
    },
    {
      "cell_type": "code",
      "metadata": {
        "id": "ITjlaD7upqdJ"
      },
      "source": [
        "irisData.head()"
      ],
      "execution_count": null,
      "outputs": []
    },
    {
      "cell_type": "code",
      "metadata": {
        "id": "fl4cxUZgpul4"
      },
      "source": [
        "#Separating the dependent and independent variables\n",
        "X = irisData.iloc[:, 0:4]\n",
        "Y = irisData.iloc[:, 4:5]"
      ],
      "execution_count": null,
      "outputs": []
    },
    {
      "cell_type": "code",
      "metadata": {
        "id": "7y9O8Ln3lntX"
      },
      "source": [
        "lb = LabelBinarizer()\n",
        "Y = lb.fit_transform(Y)"
      ],
      "execution_count": null,
      "outputs": []
    },
    {
      "cell_type": "code",
      "metadata": {
        "id": "s9bUw4A5ltUH"
      },
      "source": [
        "print(Y[:5])"
      ],
      "execution_count": null,
      "outputs": []
    },
    {
      "cell_type": "code",
      "metadata": {
        "id": "W-IKtTfaksrr"
      },
      "source": [
        "X_train, X_test, Y_train, Y_test = train_test_split(X, Y, test_size = 0.1, random_state = 105)"
      ],
      "execution_count": null,
      "outputs": []
    },
    {
      "cell_type": "code",
      "metadata": {
        "id": "Fs43Lo-CqChN"
      },
      "source": [
        "# X.head()\n",
        "print(len(X_train)); print(len(X_test))"
      ],
      "execution_count": null,
      "outputs": []
    },
    {
      "cell_type": "code",
      "metadata": {
        "id": "wlgMisChqNaR"
      },
      "source": [
        "# Y.head()\n",
        "print(len(Y_train)); print(len(Y_test))"
      ],
      "execution_count": null,
      "outputs": []
    },
    {
      "cell_type": "code",
      "metadata": {
        "id": "0EVkfM__pIQU"
      },
      "source": [
        "model = Sequential()\n",
        "model.add(Dense(input_dim=4, units=6, activation='sigmoid'))\n",
        "model.add(Dense(units=6, activation='sigmoid'))\n",
        "model.add(Dense(units=3, activation=\"softmax\"))"
      ],
      "execution_count": null,
      "outputs": []
    },
    {
      "cell_type": "code",
      "metadata": {
        "id": "agBHnAbzrntR"
      },
      "source": [
        "model.compile(loss='categorical_crossentropy', metrics = [\"accuracy\"], optimizer='adam')"
      ],
      "execution_count": null,
      "outputs": []
    },
    {
      "cell_type": "code",
      "metadata": {
        "id": "Ju3MevnJrpfv"
      },
      "source": [
        "history = model.fit(X, Y, validation_data = (X_test, Y_test), batch_size=5, verbose=1, epochs=100)"
      ],
      "execution_count": null,
      "outputs": []
    },
    {
      "cell_type": "code",
      "metadata": {
        "id": "UIy78c2euptK"
      },
      "source": [
        "def roundOutput(value):\n",
        "  return np.round(value, 5)"
      ],
      "execution_count": null,
      "outputs": []
    },
    {
      "cell_type": "code",
      "metadata": {
        "id": "6uiP1vZUmumx"
      },
      "source": [
        "output = model.predict([[5.4, 3.9, 1.7, 0.4]])\n",
        "print(f\"Output from Softmax: {list(map(roundOutput, output[0]))}\")\n",
        "category = np.argmax(output)\n",
        "print(f\"Category: {dataLabel[category]}\")"
      ],
      "execution_count": null,
      "outputs": []
    },
    {
      "cell_type": "code",
      "metadata": {
        "id": "7yPL6EV3sKr5"
      },
      "source": [
        "trainAcc = history.history[\"accuracy\"]\n",
        "valAcc = history.history[\"val_accuracy\"]\n",
        "trainLoss = history.history[\"loss\"]\n",
        "valLoss = history.history[\"val_loss\"]"
      ],
      "execution_count": null,
      "outputs": []
    },
    {
      "cell_type": "code",
      "metadata": {
        "id": "gk9KGNTWtRUX"
      },
      "source": [
        "epochs = np.arange(100)\n",
        "plt.plot(epochs, trainAcc, 'g', label = 'TrainACC')\n",
        "plt.plot(epochs, valAcc, 'b', label = 'ValAcc')\n",
        "plt.title('Training vs Validation Accuracy')\n",
        "plt.xlabel('Epochs')\n",
        "plt.ylabel('Accuracy')\n",
        "plt.legend()\n",
        "plt.show()"
      ],
      "execution_count": null,
      "outputs": []
    },
    {
      "cell_type": "code",
      "metadata": {
        "id": "FOCcdlsduJXY"
      },
      "source": [
        "epochs = np.arange(100)\n",
        "plt.plot(epochs, trainLoss, 'g', label = 'TrainLoss')\n",
        "plt.plot(epochs, valLoss, 'b', label = 'ValLoss')\n",
        "plt.title('Training vs Validation Loss')\n",
        "plt.xlabel('Epochs')\n",
        "plt.ylabel('Loss')\n",
        "plt.legend()\n",
        "plt.show()"
      ],
      "execution_count": null,
      "outputs": []
    }
  ]
}