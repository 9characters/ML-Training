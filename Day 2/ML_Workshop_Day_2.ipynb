{
  "nbformat": 4,
  "nbformat_minor": 0,
  "metadata": {
    "colab": {
      "name": "ML Workshop - Day 2.ipynb",
      "provenance": [],
      "collapsed_sections": [
        "yOPHvQmkKNu1",
        "s_ESkehPv8ae"
      ],
      "toc_visible": true
    },
    "kernelspec": {
      "name": "python3",
      "display_name": "Python 3"
    }
  },
  "cells": [
    {
      "cell_type": "markdown",
      "metadata": {
        "id": "yOPHvQmkKNu1"
      },
      "source": [
        "# CONVOLUTIONAL NEURAL NETWORK (CNN)"
      ]
    },
    {
      "cell_type": "code",
      "metadata": {
        "id": "pnZ3aQK2KVMV"
      },
      "source": [
        "import numpy as np\n",
        "import matplotlib.pyplot as plt\n",
        "\n",
        "from keras.datasets import mnist\n",
        "from keras.models import Sequential, load_model\n",
        "from keras.layers import Dense, Dropout, Activation\n",
        "from keras.layers import Conv2D, MaxPooling2D, Flatten\n",
        "from keras.utils import to_categorical"
      ],
      "execution_count": null,
      "outputs": []
    },
    {
      "cell_type": "code",
      "metadata": {
        "id": "HKpIZhEYX-i1"
      },
      "source": [
        "(X_train, Y_train), (X_test, Y_test) = mnist.load_data()"
      ],
      "execution_count": null,
      "outputs": []
    },
    {
      "cell_type": "code",
      "metadata": {
        "id": "YATpwRopZowJ"
      },
      "source": [
        "print(f\"X_train: {len(X_train)}\")\n",
        "print(f\"X_test: {len(X_test)}\")"
      ],
      "execution_count": null,
      "outputs": []
    },
    {
      "cell_type": "code",
      "metadata": {
        "id": "8NhAWdxkYOhO"
      },
      "source": [
        "print(Y_train[4])\n",
        "plt.imshow(X_train[4], cmap = \"gray\")"
      ],
      "execution_count": null,
      "outputs": []
    },
    {
      "cell_type": "code",
      "metadata": {
        "id": "55LR2G5amVIy"
      },
      "source": [
        "print(X_train.shape)"
      ],
      "execution_count": null,
      "outputs": []
    },
    {
      "cell_type": "code",
      "metadata": {
        "id": "X4eX8FyQjdxx"
      },
      "source": [
        "print(X_train[5])"
      ],
      "execution_count": null,
      "outputs": []
    },
    {
      "cell_type": "code",
      "metadata": {
        "id": "JDKVTAG3tcSc"
      },
      "source": [
        "# Reshape the data to have single channel\n",
        "X_train = X_train.reshape((X_train.shape[0],28, 28, 1))\n",
        "X_test = X_test.reshape((X_test.shape[0],28, 28, 1))\n",
        "\n",
        "# Convert the integer data to float32 and rescale pixel values from range [0, 255] to [0, 1]\n",
        "X_train= X_train.astype('float32') / 255 \n",
        "X_test= X_test.astype('float32') / 255"
      ],
      "execution_count": null,
      "outputs": []
    },
    {
      "cell_type": "code",
      "metadata": {
        "id": "868zbrZdL2tC"
      },
      "source": [
        "print(X_train.shape)\n",
        "print(X_train[5])"
      ],
      "execution_count": null,
      "outputs": []
    },
    {
      "cell_type": "code",
      "metadata": {
        "id": "vrrLQv7Ktdbq"
      },
      "source": [
        "# Converting the regular labels to categorical\n",
        "Y_train = to_categorical(Y_train)\n",
        "Y_test = to_categorical(Y_test)"
      ],
      "execution_count": null,
      "outputs": []
    },
    {
      "cell_type": "code",
      "metadata": {
        "id": "50xXObHKjoWf"
      },
      "source": [
        "print(Y_train[5])"
      ],
      "execution_count": null,
      "outputs": []
    },
    {
      "cell_type": "code",
      "metadata": {
        "id": "Sb5Gf6-smHSq"
      },
      "source": [
        "cnnModel = Sequential()\n",
        "cnnModel.add(Conv2D(32, (3, 3), activation='relu', input_shape=(28, 28, 1)))\n",
        "cnnModel.add(MaxPooling2D((2, 2)))\n",
        "\n",
        "cnnModel.add(Flatten())\n",
        "\n",
        "cnnModel.add(Dense(units = 64, activation='relu'))\n",
        "cnnModel.add(Dense(units = 10, activation='softmax'))"
      ],
      "execution_count": null,
      "outputs": []
    },
    {
      "cell_type": "code",
      "metadata": {
        "id": "lxfUgfPCnfmg"
      },
      "source": [
        "cnnModel.compile(optimizer='adam', loss='categorical_crossentropy', metrics=['accuracy'])"
      ],
      "execution_count": null,
      "outputs": []
    },
    {
      "cell_type": "code",
      "metadata": {
        "id": "sgYonWBloOue"
      },
      "source": [
        "cnnModel.summary()"
      ],
      "execution_count": null,
      "outputs": []
    },
    {
      "cell_type": "code",
      "metadata": {
        "id": "Di80PrJEqk-v"
      },
      "source": [
        "print(Y_train[0])"
      ],
      "execution_count": null,
      "outputs": []
    },
    {
      "cell_type": "code",
      "metadata": {
        "id": "s26LQ3x6quqP"
      },
      "source": [
        "history = cnnModel.fit(X_train, Y_train, epochs=5, batch_size=64, validation_data=(X_test, Y_test))"
      ],
      "execution_count": null,
      "outputs": []
    },
    {
      "cell_type": "code",
      "metadata": {
        "id": "zC0Ajc_5xzMP"
      },
      "source": [
        "#Loading the image\n",
        "image = plt.imread(\"MNIST Test Data/img_1.jpg\")\n",
        "\n",
        "#Reshaping the image as (1,28,28,1)\n",
        "image = image.reshape((1,28,28,1))"
      ],
      "execution_count": null,
      "outputs": []
    },
    {
      "cell_type": "code",
      "metadata": {
        "id": "jVzPlhrx6g89"
      },
      "source": [
        "output = cnnModel.predict(image)\n",
        "print(f\"Output from Softmax: {output}\")\n",
        "\n",
        "\n",
        "category = np.argmax(output)\n",
        "print(f\"Category: {category}\")"
      ],
      "execution_count": null,
      "outputs": []
    },
    {
      "cell_type": "code",
      "metadata": {
        "id": "aRldyQyvrCXL"
      },
      "source": [
        "trainAcc = history.history['accuracy']\n",
        "valAcc = history.history['val_accuracy']\n",
        "trainLoss = history.history['loss']\n",
        "valLoss = history.history['val_loss']"
      ],
      "execution_count": null,
      "outputs": []
    },
    {
      "cell_type": "code",
      "metadata": {
        "id": "tAk5npLMrnbS"
      },
      "source": [
        "epochs = np.arange(3)\n",
        "plt.plot(epochs, trainAcc, 'g', label='TrainAcc')\n",
        "plt.plot(epochs, valAcc, 'b', label='ValAcc')\n",
        "plt.title('Training and validation accuracy')\n",
        "plt.xlabel('Epochs')\n",
        "plt.ylabel('Accuracy')\n",
        "plt.legend()\n",
        "plt.show()"
      ],
      "execution_count": null,
      "outputs": []
    },
    {
      "cell_type": "code",
      "metadata": {
        "id": "3BWvzkSzscYC"
      },
      "source": [
        "epochs = np.arange(5)\n",
        "plt.plot(epochs, trainLoss, 'g', label='TrainLoss')\n",
        "plt.plot(epochs, valLoss, 'b', label='ValLoss')\n",
        "plt.title('Training and validation loss')\n",
        "plt.xlabel('Epochs')\n",
        "plt.ylabel('Loss')\n",
        "plt.legend()\n",
        "plt.show()"
      ],
      "execution_count": null,
      "outputs": []
    },
    {
      "cell_type": "code",
      "metadata": {
        "id": "CS29TMrisidd"
      },
      "source": [
        "'''\n",
        "Some standard CNN architectures\n",
        "AlexNet (2012)\n",
        "VGG16 (2014)\n",
        "'''"
      ],
      "execution_count": null,
      "outputs": []
    },
    {
      "cell_type": "markdown",
      "metadata": {
        "id": "s_ESkehPv8ae"
      },
      "source": [
        "# TENSORFLOW"
      ]
    },
    {
      "cell_type": "code",
      "metadata": {
        "id": "gHh4r9W4wFEv"
      },
      "source": [
        "%tensorflow_version 1.x\n",
        "import tensorflow as tf"
      ],
      "execution_count": null,
      "outputs": []
    },
    {
      "cell_type": "code",
      "metadata": {
        "id": "35B_I6EowYMr"
      },
      "source": [
        "# Constant Tensor\n",
        "constNode1 = tf.constant(5.0, dtype = \"float32\")\n",
        "constNode2 = tf.constant(4.5, dtype = \"float32\", name = \"node_a\")\n",
        "print(constNode1)\n",
        "print(constNode2)"
      ],
      "execution_count": null,
      "outputs": []
    },
    {
      "cell_type": "code",
      "metadata": {
        "id": "MY0iKneUynXt"
      },
      "source": [
        "# TF Session\n",
        "node1 = tf.constant(2.4, tf.float32)\n",
        "node2 = tf.constant(3.5,tf.float32)\n",
        "\n",
        "sess = tf.Session()\n",
        "\n",
        "# To execute single TF node\n",
        "output = sess.run(node1)\n",
        "print(output)\n",
        "\n",
        "#To execute multiple TF nodes individually\n",
        "print(sess.run([node1, node2]))\n",
        "\n",
        "sess.close()"
      ],
      "execution_count": null,
      "outputs": []
    },
    {
      "cell_type": "code",
      "metadata": {
        "id": "uAVBHtnC5Zwi"
      },
      "source": [
        "# Another Example with constant\n",
        "# We do not have to run each and every nodes but just single node associated with all other nodes\n",
        "node1 = tf.constant(2.4, tf.float32)\n",
        "node2 = tf.constant(3.5,tf.float32)\n",
        "node3 = node1 + node2\n",
        "sess = tf.Session()\n",
        "\n",
        "# To execute single TF node\n",
        "print(sess.run(node3))\n",
        "\n",
        "sess.close()"
      ],
      "execution_count": null,
      "outputs": []
    },
    {
      "cell_type": "code",
      "metadata": {
        "id": "nfnuasx76szG"
      },
      "source": [
        "# TensorFow Placeholders\n",
        "node1 = tf.placeholder(dtype = tf.float32)\n",
        "node2 = tf.placeholder(dtype = tf.float32)\n",
        "\n",
        "node3 = node1 + node2\n",
        "\n",
        "sess = tf.Session() \n",
        "\n",
        "# While running the tensor, if a placeholder is associated, then we pass the values in the following ways\n",
        "output1 = sess.run(node3, feed_dict={node1: 23, node2: 14})\n",
        "output2 = sess.run(node3, {node1: 12, node2: 15})\n",
        "\n",
        "'''\n",
        "Here we need to understand:\n",
        "-> Since node3 is connected to node1 and node 2, \n",
        "        We just ran \"node3\" and passed the values for the placeholders node1 and node2\n",
        "'''\n",
        "\n",
        "print(output1)\n",
        "print(output2)\n",
        "\n",
        "sess.close()"
      ],
      "execution_count": null,
      "outputs": []
    },
    {
      "cell_type": "code",
      "metadata": {
        "id": "LDV2EuHCknZR"
      },
      "source": [
        "# TensorFlow Variables\n",
        "\n",
        "var1 = tf.Variable(initial_value=23, dtype = tf.float32)\n",
        "var2 = tf.Variable(initial_value=34, dtype = tf.float32)\n",
        "\n",
        "sess = tf.Session()\n",
        "\n",
        "init = tf.global_variables_initializer()\n",
        "sess.run(init)\n",
        "\n",
        "output1 = sess.run(var1)\n",
        "output2 = sess.run(var2)\n",
        "\n",
        "print(output1)\n",
        "print(output2)\n",
        "\n",
        "sess.close()"
      ],
      "execution_count": null,
      "outputs": []
    },
    {
      "cell_type": "code",
      "metadata": {
        "id": "fX4wG2R2_Jav"
      },
      "source": [
        "# Lets work on the simple tensorflow program\n",
        "# Factory Reset Runtime (Due to cache issues)"
      ],
      "execution_count": null,
      "outputs": []
    },
    {
      "cell_type": "code",
      "metadata": {
        "id": "ZwwS9a3i_Z0F"
      },
      "source": [
        "%tensorflow_version 1.x\n",
        "import tensorflow as tf\n",
        "\n",
        "# Two constant tensors\n",
        "a = tf.constant(4.5, tf.float32, name = \"a\")\n",
        "b = tf.constant(5.5, tf.float32, name = \"b\")\n",
        "\n",
        "# Placeholder Tensor\n",
        "c = tf.placeholder(tf.float32, name = \"c\")\n",
        "\n",
        "# Variable tensor\n",
        "d = tf.Variable(initial_value=3.5, name = \"d\", dtype = \"float32\")\n",
        "\n",
        "# a and b are added to create e Tensor\n",
        "e = tf.add(a, b, name = \"e\")\n",
        "\n",
        "# c and d are multiplied to create f tensor\n",
        "f = tf.multiply(c, d, name = \"f\")\n",
        "\n",
        "#Final f and e are added to create h tensor\n",
        "h = tf.add(f, e, name = \"h\")\n",
        "\n",
        "# Creating the sesson to execute the dataflow graph\n",
        "sess = tf.Session()\n",
        "\n",
        "# Creating the FileWriter object\n",
        "writer = tf.summary.FileWriter(\"./logs\", sess.graph)\n",
        "\n",
        "# Initializing the variables\n",
        "init = tf.global_variables_initializer()\n",
        "sess.run(init)\n",
        "\n",
        "# Generating the output and feeding the paceholder with the input value\n",
        "output = sess.run(e, {c: 12})\n",
        "print(output)\n",
        "\n",
        "# Closing the File Writer object\n",
        "writer.close()\n",
        "\n",
        "# Closing the Session\n",
        "sess.close()"
      ],
      "execution_count": null,
      "outputs": []
    },
    {
      "cell_type": "code",
      "metadata": {
        "id": "VxQof8Ff5PVY"
      },
      "source": [
        "%load_ext tensorboard\n",
        "%tensorboard --logdir logs"
      ],
      "execution_count": null,
      "outputs": []
    }
  ]
}